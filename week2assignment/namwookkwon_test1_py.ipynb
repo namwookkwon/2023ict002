{
  "nbformat": 4,
  "nbformat_minor": 0,
  "metadata": {
    "colab": {
      "provenance": []
    },
    "kernelspec": {
      "name": "python3",
      "display_name": "Python 3"
    },
    "language_info": {
      "name": "python"
    }
  },
  "cells": [
    {
      "cell_type": "code",
      "execution_count": 1,
      "metadata": {
        "colab": {
          "base_uri": "https://localhost:8080/"
        },
        "id": "wJHNioCSjoAA",
        "outputId": "8c6357fb-3906-4f1c-a387-6d44379d2d5e"
      },
      "outputs": [
        {
          "output_type": "stream",
          "name": "stdout",
          "text": [
            "10000\n",
            "3550\n",
            "거스름돈: 6450 원\n",
            "500원짜리 거스름돈: 12 개\n",
            "100원짜리 거스름돈: 4 개\n",
            "50원짜리 거스름돈: 1 개\n"
          ]
        }
      ],
      "source": [
        "money = int(input())\n",
        "price = int (input())\n",
        "\n",
        "\n",
        " \n",
        "total= money-price\n",
        "print(\"거스름돈:\",total, \"원\")\n",
        "\n",
        "gus500 = total //500 \n",
        "change500 = gus500*500\n",
        "\n",
        "gus100 = (total-change500)//100\n",
        "change100 = gus100*100\n",
        "\n",
        "gus50 = (total-change500-change100) //50\n",
        "\n",
        "\n",
        "print(\"500원짜리 거스름돈:\" ,gus500 ,\"개\")\n",
        "print(\"100원짜리 거스름돈:\" , gus100 ,\"개\")\n",
        "print(\"50원짜리 거스름돈:\" , gus50, \"개\")"
      ]
    }
  ]
}