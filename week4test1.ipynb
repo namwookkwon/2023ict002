{
  "nbformat": 4,
  "nbformat_minor": 0,
  "metadata": {
    "colab": {
      "provenance": []
    },
    "kernelspec": {
      "name": "python3",
      "display_name": "Python 3"
    },
    "language_info": {
      "name": "python"
    }
  },
  "cells": [
    {
      "cell_type": "code",
      "execution_count": 12,
      "metadata": {
        "id": "EMX07jX6YZEG",
        "colab": {
          "base_uri": "https://localhost:8080/"
        },
        "outputId": "66d4b0b8-b36f-49d5-9f10-3a38ff7efa80"
      },
      "outputs": [
        {
          "output_type": "stream",
          "name": "stdout",
          "text": [
            "용도 : 1:주택용, 2:공업용, 3:산업용?:1\n",
            "사용량(kwh)?:57\n",
            "용도1, 사용량 57.00, 사용값:5,926.00\n"
          ]
        }
      ],
      "source": [
        "num = int(input(\"용도 : 1:주택용, 2:공업용, 3:산업용?:\"))\n",
        "using=float(input(\"사용량(kwh)?:\"))\n",
        "\n",
        "if num==1:\n",
        "   case1= 910+(88*using)  \n",
        "\n",
        "else  :\n",
        "    if num==2 :\n",
        "        case1= 1600+(182*using)\n",
        "\n",
        "    else:\n",
        "        if num==3:\n",
        "             case1= 7300+(275*using)\n",
        "print(\"용도{0}, 사용량 {1:.2f}, 사용값:{2:0,.2f}\".format(num, using,case1)) \n",
        "    "
      ]
    },
    {
      "cell_type": "code",
      "source": [
        "name = input(\"이름\")\n",
        "korean=int(input(\"국어점수\"))\n",
        "english=int(input(\"영어점수\"))\n",
        "math=int(input(\"수학점수\"))\n",
        "sum=korean+english+math\n",
        "average= (sum)/3\n",
        "rank=''\n",
        "\n",
        "if average>=95 and average<=100:\n",
        "   rank='A+'\n",
        "\n",
        "elif average>=90:\n",
        "  rank=\"A\"\n",
        "\n",
        "elif average>=85:\n",
        "  rank=\"B+\"\n",
        "\n",
        "elif average>=80:\n",
        "  rank=\"B\"\n",
        "\n",
        "elif average>75:\n",
        "  rank=\"C+\"\n",
        "\n",
        "elif average>=70:\n",
        "  rank=\"C\"\n",
        "\n",
        "elif average>=65:\n",
        "  rank=\"D\"\n",
        "\n",
        "else:\n",
        "  rank=\"F\"\n",
        "\n",
        "print(\"{0}군의 총점은:{1}점, 평균은:{2:.2f}점, 학점은:{3} \".format(name, sum, average, rank))\n"
      ],
      "metadata": {
        "colab": {
          "base_uri": "https://localhost:8080/"
        },
        "id": "EMknt--6jtXP",
        "outputId": "4fbab331-22b8-4407-b8d2-3127ce2c7491"
      },
      "execution_count": 11,
      "outputs": [
        {
          "output_type": "stream",
          "name": "stdout",
          "text": [
            "이름권남욱\n",
            "국어점수90\n",
            "영어점수80\n",
            "수학점수75\n",
            "권남욱군의 총점은:245점, 평균은:81.67점, 학점은:B \n"
          ]
        }
      ]
    }
  ]
}