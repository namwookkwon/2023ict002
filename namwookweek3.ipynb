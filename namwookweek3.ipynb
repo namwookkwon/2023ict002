{
  "nbformat": 4,
  "nbformat_minor": 0,
  "metadata": {
    "colab": {
      "provenance": []
    },
    "kernelspec": {
      "name": "python3",
      "display_name": "Python 3"
    },
    "language_info": {
      "name": "python"
    }
  },
  "cells": [
    {
      "cell_type": "code",
      "execution_count": null,
      "metadata": {
        "id": "RtJDCgmm9txg"
      },
      "outputs": [],
      "source": [
        "alpa =input(\"알파벳을 입력하시오\")\n",
        "\n",
        "if alpa.isupper():\n",
        "    print(f\"당신이 입력한 문자 {alpa} 대문자 입니다\")\n",
        "\n",
        "else :\n",
        "    print(f\"당신이 입력한 문자 {alpa} 소문자 입니다\")   "
      ]
    }
  ]
}